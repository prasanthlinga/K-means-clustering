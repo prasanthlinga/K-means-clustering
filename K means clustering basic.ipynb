{
 "cells": [
  {
   "cell_type": "code",
   "execution_count": 244,
   "metadata": {},
   "outputs": [],
   "source": [
    "import numpy as np\n",
    "import pandas as pd\n"
   ]
  },
  {
   "cell_type": "code",
   "execution_count": 245,
   "metadata": {},
   "outputs": [
    {
     "name": "stdout",
     "output_type": "stream",
     "text": [
      "<function make_blobs at 0x0000026290BF6E50>\n"
     ]
    }
   ],
   "source": [
    "# generate our own dataset by using make_blobs function from scikit learn module\n",
    "from sklearn.datasets import make_blobs\n",
    "\n",
    "print(make_blobs)   # make_blobs function generate blobs of points with gaussioan distribution also called normal distribution \n",
    "#where maximum data falls near mean of the data "
   ]
  },
  {
   "cell_type": "code",
   "execution_count": 246,
   "metadata": {},
   "outputs": [],
   "source": [
    "X,y =make_blobs(n_samples=1000,centers=4,cluster_std=0.6,n_features=4,random_state=42)\n",
    "\n",
    "# cluster_std is standard deviation of clusters \n",
    "# no.of centers to generate   # no.of groups/clustres\n",
    "# no.of features for each sample   #no.of columns"
   ]
  },
  {
   "cell_type": "code",
   "execution_count": 247,
   "metadata": {},
   "outputs": [
    {
     "name": "stdout",
     "output_type": "stream",
     "text": [
      "[[ -7.68790296  -7.46307802  -8.11807941   6.92938635]\n",
      " [ -6.20515956  -6.31159372  -9.30205436   7.56775429]\n",
      " [ -2.78058141   7.55995853   3.68953714   2.42941848]\n",
      " ...\n",
      " [  0.69518309   5.08151178 -10.44268441   9.23820565]\n",
      " [  6.8421022   -5.75987299  -6.85130928  -5.83794185]\n",
      " [ -2.83305343   8.54730329   4.75738599   1.38614602]]\n"
     ]
    }
   ],
   "source": [
    "print(X)"
   ]
  },
  {
   "cell_type": "code",
   "execution_count": 248,
   "metadata": {},
   "outputs": [
    {
     "data": {
      "text/plain": [
       "<matplotlib.collections.PathCollection at 0x26295e148e0>"
      ]
     },
     "execution_count": 248,
     "metadata": {},
     "output_type": "execute_result"
    },
    {
     "data": {
      "image/png": "[encoded data removed]",
      "text/plain": [
       "<Figure size 720x576 with 1 Axes>"
      ]
     },
     "metadata": {
      "needs_background": "light"
     },
     "output_type": "display_data"
    }
   ],
   "source": [
    "import matplotlib.pyplot as plt\n",
    "plt.figure(figsize=(10,8))\n",
    "plt.scatter(X[:,1],X[:,2])"
   ]
  },
  {
   "cell_type": "code",
   "execution_count": 249,
   "metadata": {},
   "outputs": [
    {
     "data": {
      "text/plain": [
       "<matplotlib.collections.PathCollection at 0x262970c15b0>"
      ]
     },
     "execution_count": 249,
     "metadata": {},
     "output_type": "execute_result"
    },
    {
     "data": {
      "image/png": "[encoded data removed]",
      "text/plain": [
       "<Figure size 432x288 with 1 Axes>"
      ]
     },
     "metadata": {
      "needs_background": "light"
     },
     "output_type": "display_data"
    }
   ],
   "source": [
    "plt.scatter(y[:],y[:])"
   ]
  },
  {
   "cell_type": "code",
   "execution_count": 250,
   "metadata": {},
   "outputs": [
    {
     "name": "stdout",
     "output_type": "stream",
     "text": [
      "(1000, 4)\n"
     ]
    }
   ],
   "source": [
    "print(X.shape)"
   ]
  },
  {
   "cell_type": "code",
   "execution_count": 251,
   "metadata": {},
   "outputs": [
    {
     "name": "stdout",
     "output_type": "stream",
     "text": [
      "(1000,)\n"
     ]
    }
   ],
   "source": [
    "print(y.shape)"
   ]
  },
  {
   "cell_type": "code",
   "execution_count": 252,
   "metadata": {},
   "outputs": [
    {
     "name": "stdout",
     "output_type": "stream",
     "text": [
      "[1 1 0 0 1 0 3 1 2 2 0 0 0 3 2 3 1 0 3 0 0 1 0 0 1 2 1 2 3 2 2 3 2 3 3 2 2\n",
      " 0 2 2 0 3 2 3 1 1 1 3 1 2 3 2 2 2 1 3 1 1 0 2 2 2 1 0 2 2 2 1 3 1 0 0 3 2\n",
      " 0 0 2 3 1 2 3 1 2 0 0 0 2 1 1 1 1 2 3 3 0 1 0 3 1 0 3 3 1 2 0 3 0 3 1 3 1\n",
      " 2 3 3 1 2 1 2 2 2 2 0 1 0 1 0 2 2 0 0 3 1 3 2 1 2 1 0 2 3 3 2 1 0 2 3 1 1\n",
      " 0 3 3 2 3 3 0 2 3 0 3 2 2 0 1 2 3 1 0 2 2 1 2 1 0 2 2 1 3 2 0 2 3 2 3 0 2\n",
      " 2 2 1 0 0 0 2 1 1 2 0 1 0 3 2 0 3 3 2 1 3 1 0 2 3 0 3 2 3 3 2 3 1 3 0 2 0\n",
      " 2 1 2 2 2 1 1 3 2 3 2 0 1 1 3 0 1 3 2 3 2 2 2 1 0 0 3 0 1 3 3 2 2 1 2 1 0\n",
      " 3 0 3 1 2 0 2 3 0 1 0 1 2 3 2 2 0 3 1 3 0 0 0 1 0 0 0 2 0 1 1 1 1 1 0 3 0\n",
      " 3 0 0 0 1 1 2 0 0 2 1 1 3 1 0 1 1 1 2 2 3 0 3 0 0 3 3 0 0 2 3 3 0 3 0 3 1\n",
      " 0 1 1 1 3 2 2 1 3 1 2 2 0 3 2 0 1 2 0 0 2 3 0 1 1 3 3 3 3 0 3 0 1 2 3 3 0\n",
      " 2 1 3 0 3 2 2 1 3 3 3 1 1 0 0 2 3 1 3 3 3 0 2 1 3 1 1 3 0 2 2 2 0 2 3 2 0\n",
      " 2 0 2 1 1 0 3 0 0 3 1 3 0 3 2 1 2 0 0 1 1 1 2 1 0 1 3 1 2 1 1 3 0 1 0 2 1\n",
      " 0 2 2 3 2 0 0 1 2 3 0 2 2 1 1 2 2 0 0 1 0 3 1 1 2 0 1 3 3 2 1 3 2 2 1 3 2\n",
      " 1 2 2 3 0 2 3 3 1 1 3 3 0 2 2 2 0 1 2 1 3 2 3 1 3 3 0 0 3 1 0 0 0 0 3 1 3\n",
      " 2 1 2 0 3 0 3 3 1 3 2 3 3 0 1 1 0 3 3 1 1 2 0 2 2 0 3 2 0 3 0 2 0 0 1 0 2\n",
      " 3 3 1 0 3 2 1 1 1 1 1 1 0 3 1 3 3 2 0 0 3 2 1 0 3 1 3 1 2 2 0 3 1 1 2 2 2\n",
      " 2 3 1 0 3 1 3 2 0 2 0 3 1 2 0 2 1 1 1 0 3 0 0 3 2 2 0 1 2 0 1 1 1 3 2 1 2\n",
      " 2 3 3 2 3 0 3 1 1 0 2 0 0 2 3 3 1 0 1 3 1 2 3 3 2 2 1 1 0 2 0 1 1 1 2 0 3\n",
      " 2 0 0 0 0 2 0 1 1 0 1 1 3 1 1 0 1 3 0 1 3 2 2 0 1 0 3 3 0 1 2 0 0 3 0 3 1\n",
      " 1 0 0 0 2 3 3 3 0 0 3 1 0 2 1 1 3 2 2 0 1 0 2 3 1 1 1 2 3 2 2 0 1 1 2 2 3\n",
      " 0 2 0 1 0 1 0 2 1 3 3 0 0 1 0 0 1 1 2 3 3 0 2 3 3 2 0 2 3 0 2 3 3 2 0 0 1\n",
      " 1 3 1 3 3 3 2 0 2 2 3 2 3 3 1 2 0 1 0 1 2 3 3 2 3 3 1 2 3 1 2 2 1 3 0 0 0\n",
      " 2 0 2 0 1 3 0 2 2 1 1 2 2 3 1 0 0 1 1 2 3 2 2 2 1 1 1 2 1 1 3 2 1 3 0 3 0\n",
      " 0 2 3 1 1 0 3 0 1 3 0 2 1 0 2 0 2 2 3 2 3 0 3 1 1 0 3 3 3 1 2 0 1 2 0 3 3\n",
      " 1 1 2 1 3 3 1 0 1 0 0 0 3 1 2 3 1 2 2 2 0 3 2 1 0 2 3 2 0 1 3 1 0 0 1 1 0\n",
      " 0 3 3 3 3 2 3 0 3 2 1 1 1 1 3 2 0 3 0 3 2 3 2 3 0 0 0 0 0 0 0 1 3 3 1 2 2\n",
      " 3 2 0 3 2 1 3 3 1 3 2 0 0 3 2 2 1 0 1 3 1 2 3 1 1 3 0 3 0 2 3 3 0 3 2 2 3\n",
      " 0]\n"
     ]
    }
   ],
   "source": [
    "print(y)"
   ]
  },
  {
   "cell_type": "code",
   "execution_count": 253,
   "metadata": {},
   "outputs": [],
   "source": [
    "#y.reshape(1000,1)"
   ]
  },
  {
   "cell_type": "code",
   "execution_count": 254,
   "metadata": {},
   "outputs": [
    {
     "name": "stdout",
     "output_type": "stream",
     "text": [
      "(1000,)\n"
     ]
    }
   ],
   "source": [
    "print(y.shape)"
   ]
  },
  {
   "cell_type": "code",
   "execution_count": 255,
   "metadata": {},
   "outputs": [
    {
     "name": "stdout",
     "output_type": "stream",
     "text": [
      "KMeans(n_clusters=1, random_state=42)\n",
      "KMeans(n_clusters=2, random_state=42)\n"
     ]
    },
    {
     "name": "stderr",
     "output_type": "stream",
     "text": [
      "C:\\Users\\prasa\\anaconda3\\lib\\site-packages\\sklearn\\cluster\\_kmeans.py:881: UserWarning: KMeans is known to have a memory leak on Windows with MKL, when there are less chunks than available threads. You can avoid it by setting the environment variable OMP_NUM_THREADS=4.\n",
      "  warnings.warn(\n"
     ]
    },
    {
     "name": "stdout",
     "output_type": "stream",
     "text": [
      "KMeans(n_clusters=3, random_state=42)\n",
      "KMeans(n_clusters=4, random_state=42)\n",
      "KMeans(n_clusters=5, random_state=42)\n",
      "KMeans(n_clusters=6, random_state=42)\n",
      "KMeans(n_clusters=7, random_state=42)\n",
      "KMeans(random_state=42)\n",
      "KMeans(n_clusters=9, random_state=42)\n",
      "KMeans(n_clusters=10, random_state=42)\n",
      "KMeans(n_clusters=11, random_state=42)\n",
      "[141210.88490196608, 81376.7859919679, 26977.79322280449, 1428.7810986483944, 1357.4573203843224, 1287.9648679133043, 1219.2247643173223, 1174.922421562302, 1115.8759517935496, 1073.5834362541711, 1027.0298461075124]\n"
     ]
    }
   ],
   "source": [
    "from sklearn.cluster import KMeans\n",
    "WCSS=[]  # within cluster sum of sqaures\n",
    "for i in range(1,12):\n",
    "    kmeans=KMeans(n_clusters=i,init='k-means++',max_iter=300,n_init=10,random_state=42)#kmeans++ :selects initial no.of clusters\n",
    "    print(kmeans)\n",
    "    kmeans.fit(X)\n",
    "    WCSS.append(kmeans.inertia_)\n",
    "print(WCSS)\n"
   ]
  },
  {
   "cell_type": "code",
   "execution_count": 256,
   "metadata": {},
   "outputs": [
    {
     "data": {
      "image/png": "[encoded data removed]",
      "text/plain": [
       "<Figure size 720x720 with 1 Axes>"
      ]
     },
     "metadata": {
      "needs_background": "light"
     },
     "output_type": "display_data"
    }
   ],
   "source": [
    "plt.figure(figsize=(10,10))\n",
    "plt.plot(WCSS)  #if you provide only one parameter, matplotlib assumes it as a y parameter and automatically generates the X\n",
    "plt.title(\"Elbow Method\")\n",
    "plt.xlabel(\"no.of clusters\")\n",
    "plt.ylabel(\"WCSS\")\n",
    "plt.show()"
   ]
  },
  {
   "cell_type": "code",
   "execution_count": 271,
   "metadata": {},
   "outputs": [
    {
     "data": {
      "text/plain": [
       "array([0, 0, 1, 1, 0, 1, 2, 0, 3, 3, 1, 1, 1, 2, 3, 2, 0, 1, 2, 1, 1, 0,\n",
       "       1, 1, 0, 3, 0, 3, 2, 3, 3, 2, 3, 2, 2, 3, 3, 1, 3, 3, 1, 2, 3, 2,\n",
       "       0, 0, 0, 2, 0, 3, 2, 3, 3, 3, 0, 2, 0, 0, 1, 3, 3, 3, 0, 1, 3, 3,\n",
       "       3, 0, 2, 0, 1, 1, 2, 3, 1, 1, 3, 2, 0, 3, 2, 0, 3, 1, 1, 1, 3, 0,\n",
       "       0, 0, 0, 3, 2, 2, 1, 0, 1, 2, 0, 1, 2, 2, 0, 3, 1, 2, 1, 2, 0, 2,\n",
       "       0, 3, 2, 2, 0, 3, 0, 3, 3, 3, 3, 1, 0, 1, 0, 1, 3, 3, 1, 1, 2, 0,\n",
       "       2, 3, 0, 3, 0, 1, 3, 2, 2, 3, 0, 1, 3, 2, 0, 0, 1, 2, 2, 3, 2, 2,\n",
       "       1, 3, 2, 1, 2, 3, 3, 1, 0, 3, 2, 0, 1, 3, 3, 0, 3, 0, 1, 3, 3, 0,\n",
       "       2, 3, 1, 3, 2, 3, 2, 1, 3, 3, 3, 0, 1, 1, 1, 3, 0, 0, 3, 1, 0, 1,\n",
       "       2, 3, 1, 2, 2, 3, 0, 2, 0, 1, 3, 2, 1, 2, 3, 2, 2, 3, 2, 0, 2, 1,\n",
       "       3, 1, 3, 0, 3, 3, 3, 0, 0, 2, 3, 2, 3, 1, 0, 0, 2, 1, 0, 2, 3, 2,\n",
       "       3, 3, 3, 0, 1, 1, 2, 1, 0, 2, 2, 3, 3, 0, 3, 0, 1, 2, 1, 2, 0, 3,\n",
       "       1, 3, 2, 1, 0, 1, 0, 3, 2, 3, 3, 1, 2, 0, 2, 1, 1, 1, 0, 1, 1, 1,\n",
       "       3, 1, 0, 0, 0, 0, 0, 1, 2, 1, 2, 1, 1, 1, 0, 0, 3, 1, 1, 3, 0, 0,\n",
       "       2, 0, 1, 0, 0, 0, 3, 3, 2, 1, 2, 1, 1, 2, 2, 1, 1, 3, 2, 2, 1, 2,\n",
       "       1, 2, 0, 1, 0, 0, 0, 2, 3, 3, 0, 2, 0, 3, 3, 1, 2, 3, 1, 0, 3, 1,\n",
       "       1, 3, 2, 1, 0, 0, 2, 2, 2, 2, 1, 2, 1, 0, 3, 2, 2, 1, 3, 0, 2, 1,\n",
       "       2, 3, 3, 0, 2, 2, 2, 0, 0, 1, 1, 3, 2, 0, 2, 2, 2, 1, 3, 0, 2, 0,\n",
       "       0, 2, 1, 3, 3, 3, 1, 3, 2, 3, 1, 3, 1, 3, 0, 0, 1, 2, 1, 1, 2, 0,\n",
       "       2, 1, 2, 3, 0, 3, 1, 1, 0, 0, 0, 3, 0, 1, 0, 2, 0, 3, 0, 0, 2, 1,\n",
       "       0, 1, 3, 0, 1, 3, 3, 2, 3, 1, 1, 0, 3, 2, 1, 3, 3, 0, 0, 3, 3, 1,\n",
       "       1, 0, 1, 2, 0, 0, 3, 1, 0, 2, 2, 3, 0, 2, 3, 3, 0, 2, 3, 0, 3, 3,\n",
       "       2, 1, 3, 2, 2, 0, 0, 2, 2, 1, 3, 3, 3, 1, 0, 3, 0, 2, 3, 2, 0, 2,\n",
       "       2, 1, 1, 2, 0, 1, 1, 1, 1, 2, 0, 2, 3, 0, 3, 1, 2, 1, 2, 2, 0, 2,\n",
       "       3, 2, 2, 1, 0, 0, 1, 2, 2, 0, 0, 3, 1, 3, 3, 1, 2, 3, 1, 2, 1, 3,\n",
       "       1, 1, 0, 1, 3, 2, 2, 0, 1, 2, 3, 0, 0, 0, 0, 0, 0, 1, 2, 0, 2, 2,\n",
       "       3, 1, 1, 2, 3, 0, 1, 2, 0, 2, 0, 3, 3, 1, 2, 0, 0, 3, 3, 3, 3, 2,\n",
       "       0, 1, 2, 0, 2, 3, 1, 3, 1, 2, 0, 3, 1, 3, 0, 0, 0, 1, 2, 1, 1, 2,\n",
       "       3, 3, 1, 0, 3, 1, 0, 0, 0, 2, 3, 0, 3, 3, 2, 2, 3, 2, 1, 2, 0, 0,\n",
       "       1, 3, 1, 1, 3, 2, 2, 0, 1, 0, 2, 0, 3, 2, 2, 3, 3, 0, 0, 1, 3, 1,\n",
       "       0, 0, 0, 3, 1, 2, 3, 1, 1, 1, 1, 3, 1, 0, 0, 1, 0, 0, 2, 0, 0, 1,\n",
       "       0, 2, 1, 0, 2, 3, 3, 1, 0, 1, 2, 2, 1, 0, 3, 1, 1, 2, 1, 2, 0, 0,\n",
       "       1, 1, 1, 3, 2, 2, 2, 1, 1, 2, 0, 1, 3, 0, 0, 2, 3, 3, 1, 0, 1, 3,\n",
       "       2, 0, 0, 0, 3, 2, 3, 3, 1, 0, 0, 3, 3, 2, 1, 3, 1, 0, 1, 0, 1, 3,\n",
       "       0, 2, 2, 1, 1, 0, 1, 1, 0, 0, 3, 2, 2, 1, 3, 2, 2, 3, 1, 3, 2, 1,\n",
       "       3, 2, 2, 3, 1, 1, 0, 0, 2, 0, 2, 2, 2, 3, 1, 3, 3, 2, 3, 2, 2, 0,\n",
       "       3, 1, 0, 1, 0, 3, 2, 2, 3, 2, 2, 0, 3, 2, 0, 3, 3, 0, 2, 1, 1, 1,\n",
       "       3, 1, 3, 1, 0, 2, 1, 3, 3, 0, 0, 3, 3, 2, 0, 1, 1, 0, 0, 3, 2, 3,\n",
       "       3, 3, 0, 0, 0, 3, 0, 0, 2, 3, 0, 2, 1, 2, 1, 1, 3, 2, 0, 0, 1, 2,\n",
       "       1, 0, 2, 1, 3, 0, 1, 3, 1, 3, 3, 2, 3, 2, 1, 2, 0, 0, 1, 2, 2, 2,\n",
       "       0, 3, 1, 0, 3, 1, 2, 2, 0, 0, 3, 0, 2, 2, 0, 1, 0, 1, 1, 1, 2, 0,\n",
       "       3, 2, 0, 3, 3, 3, 1, 2, 3, 0, 1, 3, 2, 3, 1, 0, 2, 0, 1, 1, 0, 0,\n",
       "       1, 1, 2, 2, 2, 2, 3, 2, 1, 2, 3, 0, 0, 0, 0, 2, 3, 1, 2, 1, 2, 3,\n",
       "       2, 3, 2, 1, 1, 1, 1, 1, 1, 1, 0, 2, 2, 0, 3, 3, 2, 3, 1, 2, 3, 0,\n",
       "       2, 2, 0, 2, 3, 1, 1, 2, 3, 3, 0, 1, 0, 2, 0, 3, 2, 0, 0, 2, 1, 2,\n",
       "       1, 3, 2, 2, 1, 2, 3, 3, 2, 1])"
      ]
     },
     "execution_count": 271,
     "metadata": {},
     "output_type": "execute_result"
    }
   ],
   "source": [
    "# BY using elbow method, we get the no.of clusters for our data\n",
    "#so no.of clusters =3\n",
    "kmeans=KMeans(n_clusters=4,max_iter=300,n_init=10,random_state=42)\n",
    "pred_y=kmeans.fit_predict(X)\n",
    "pred_y"
   ]
  },
  {
   "cell_type": "code",
   "execution_count": 272,
   "metadata": {},
   "outputs": [
    {
     "data": {
      "text/html": [
       "<div>\n",
       "<style scoped>\n",
       "    .dataframe tbody tr th:only-of-type {\n",
       "        vertical-align: middle;\n",
       "    }\n",
       "\n",
       "    .dataframe tbody tr th {\n",
       "        vertical-align: top;\n",
       "    }\n",
       "\n",
       "    .dataframe thead th {\n",
       "        text-align: right;\n",
       "    }\n",
       "</style>\n",
       "<table border=\"1\" class=\"dataframe\">\n",
       "  <thead>\n",
       "    <tr style=\"text-align: right;\">\n",
       "      <th></th>\n",
       "      <th>cluster</th>\n",
       "    </tr>\n",
       "  </thead>\n",
       "  <tbody>\n",
       "    <tr>\n",
       "      <th>0</th>\n",
       "      <td>0</td>\n",
       "    </tr>\n",
       "    <tr>\n",
       "      <th>1</th>\n",
       "      <td>0</td>\n",
       "    </tr>\n",
       "    <tr>\n",
       "      <th>2</th>\n",
       "      <td>1</td>\n",
       "    </tr>\n",
       "    <tr>\n",
       "      <th>3</th>\n",
       "      <td>1</td>\n",
       "    </tr>\n",
       "    <tr>\n",
       "      <th>4</th>\n",
       "      <td>0</td>\n",
       "    </tr>\n",
       "    <tr>\n",
       "      <th>...</th>\n",
       "      <td>...</td>\n",
       "    </tr>\n",
       "    <tr>\n",
       "      <th>995</th>\n",
       "      <td>2</td>\n",
       "    </tr>\n",
       "    <tr>\n",
       "      <th>996</th>\n",
       "      <td>3</td>\n",
       "    </tr>\n",
       "    <tr>\n",
       "      <th>997</th>\n",
       "      <td>3</td>\n",
       "    </tr>\n",
       "    <tr>\n",
       "      <th>998</th>\n",
       "      <td>2</td>\n",
       "    </tr>\n",
       "    <tr>\n",
       "      <th>999</th>\n",
       "      <td>1</td>\n",
       "    </tr>\n",
       "  </tbody>\n",
       "</table>\n",
       "<p>1000 rows × 1 columns</p>\n",
       "</div>"
      ],
      "text/plain": [
       "     cluster\n",
       "0          0\n",
       "1          0\n",
       "2          1\n",
       "3          1\n",
       "4          0\n",
       "..       ...\n",
       "995        2\n",
       "996        3\n",
       "997        3\n",
       "998        2\n",
       "999        1\n",
       "\n",
       "[1000 rows x 1 columns]"
      ]
     },
     "execution_count": 272,
     "metadata": {},
     "output_type": "execute_result"
    }
   ],
   "source": [
    "a=pd.DataFrame(pred_y,columns=[\"cluster\"])\n",
    "#a[\"new\"]=0\n",
    "a"
   ]
  },
  {
   "cell_type": "code",
   "execution_count": 273,
   "metadata": {},
   "outputs": [],
   "source": [
    "b=a.groupby([\"cluster\"])"
   ]
  },
  {
   "cell_type": "code",
   "execution_count": 274,
   "metadata": {},
   "outputs": [
    {
     "name": "stdout",
     "output_type": "stream",
     "text": [
      "<bound method GroupBy.first of <pandas.core.groupby.generic.DataFrameGroupBy object at 0x0000026297F61670>>\n"
     ]
    }
   ],
   "source": [
    "print(b.first)"
   ]
  },
  {
   "cell_type": "code",
   "execution_count": 275,
   "metadata": {},
   "outputs": [
    {
     "data": {
      "text/plain": [
       "cluster\n",
       "3          250\n",
       "2          250\n",
       "1          250\n",
       "0          250\n",
       "dtype: int64"
      ]
     },
     "execution_count": 275,
     "metadata": {},
     "output_type": "execute_result"
    }
   ],
   "source": [
    "a.value_counts()"
   ]
  },
  {
   "cell_type": "code",
   "execution_count": 276,
   "metadata": {},
   "outputs": [
    {
     "name": "stdout",
     "output_type": "stream",
     "text": [
      "     cluster  new\n",
      "0          0    0\n",
      "1          0    0\n",
      "2          1    0\n",
      "3          1    0\n",
      "4          0    0\n",
      "..       ...  ...\n",
      "995        2    0\n",
      "996        3    0\n",
      "997        3    0\n",
      "998        2    0\n",
      "999        1    0\n",
      "\n",
      "[1000 rows x 2 columns]\n"
     ]
    },
    {
     "data": {
      "text/plain": [
       "cluster  new\n",
       "3        0      250\n",
       "2        0      250\n",
       "1        0      250\n",
       "0        0      250\n",
       "dtype: int64"
      ]
     },
     "execution_count": 276,
     "metadata": {},
     "output_type": "execute_result"
    }
   ],
   "source": [
    "# just for practice\n",
    "a[\"new\"]=0\n",
    "print(a)\n",
    "a.value_counts()"
   ]
  },
  {
   "cell_type": "code",
   "execution_count": 277,
   "metadata": {},
   "outputs": [
    {
     "data": {
      "text/plain": [
       "<matplotlib.collections.PathCollection at 0x26297faaa90>"
      ]
     },
     "execution_count": 277,
     "metadata": {},
     "output_type": "execute_result"
    },
    {
     "data": {
      "image/png": "[encoded data removed]",
      "text/plain": [
       "<Figure size 720x720 with 1 Axes>"
      ]
     },
     "metadata": {
      "needs_background": "light"
     },
     "output_type": "display_data"
    }
   ],
   "source": [
    "plt.figure(figsize=(10,10))\n",
    "plt.scatter(X[:,1],X[:,2])\n",
    "plt.scatter(kmeans.cluster_centers_[:,1],kmeans.cluster_centers_[:,2],c='red',s=300)   # s is for size an d c is for colour"
   ]
  },
  {
   "cell_type": "code",
   "execution_count": null,
   "metadata": {},
   "outputs": [],
   "source": []
  }
 ],
 "metadata": {
  "kernelspec": {
   "display_name": "Python 3",
   "language": "python",
   "name": "python3"
  },
  "language_info": {
   "codemirror_mode": {
    "name": "ipython",
    "version": 3
   },
   "file_extension": ".py",
   "mimetype": "text/x-python",
   "name": "python",
   "nbconvert_exporter": "python",
   "pygments_lexer": "ipython3",
   "version": "3.8.5"
  }
 },
 "nbformat": 4,
 "nbformat_minor": 4
}
